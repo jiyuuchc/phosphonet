{
 "cells": [
  {
   "cell_type": "code",
   "execution_count": 1,
   "id": "37fd66af-4ac6-408f-b79b-dce37e03f83b",
   "metadata": {},
   "outputs": [
    {
     "name": "stderr",
     "output_type": "stream",
     "text": [
      "/home/FCAM/juli/HRP/my-venv/lib/python3.10/site-packages/tqdm/auto.py:21: TqdmWarning: IProgress not found. Please update jupyter and ipywidgets. See https://ipywidgets.readthedocs.io/en/stable/user_install.html\n",
      "  from .autonotebook import tqdm as notebook_tqdm\n"
     ]
    }
   ],
   "source": [
    "import os, gzip, pandas as pd, networkx as nx, numpy as np\n",
    "from tqdm import tqdm\n",
    "from node2vec import Node2Vec"
   ]
  },
  {
   "cell_type": "code",
   "execution_count": 2,
   "id": "64f803a2-ab51-48cf-bc68-42b77eddf04f",
   "metadata": {},
   "outputs": [],
   "source": [
    "DATA_FILE   = \"/home/FCAM/juli/HRP/data/9606.protein.physical.links.full.v12.0.txt.gz\"\n",
    "OUT_DIR     = \"/home/FCAM/juli/HRP/results\"\n",
    "CUTOFF      = 200\n",
    "\n",
    "DIMS        = 128\n",
    "WALK_LENGTH = 80\n",
    "NUM_WALKS   = 20\n",
    "SEED        = 42\n",
    "\n",
    "GRID_PQ     = [(1, 0.5), (1, 1), (4, 1), (4, 4)]\n",
    "\n",
    "os.makedirs(OUT_DIR,           exist_ok=True)\n",
    "TMP_DIR = os.path.join(OUT_DIR, \"tmp\")\n",
    "os.makedirs(TMP_DIR,           exist_ok=True)"
   ]
  },
  {
   "cell_type": "code",
   "execution_count": 3,
   "id": "4641cbd3-62a8-411b-b153-8ee96eeaabda",
   "metadata": {},
   "outputs": [
    {
     "name": "stderr",
     "output_type": "stream",
     "text": [
      "Loading: 1it [00:01,  1.21s/it]"
     ]
    },
    {
     "name": "stdout",
     "output_type": "stream",
     "text": [
      "✔ kept 1,065,374 edges ≥200\n"
     ]
    },
    {
     "name": "stderr",
     "output_type": "stream",
     "text": [
      "\n"
     ]
    }
   ],
   "source": [
    "chunks = []\n",
    "with gzip.open(DATA_FILE, \"rt\") as fh:\n",
    "    reader = pd.read_csv(\n",
    "        fh,\n",
    "        sep=r\"\\s+\",\n",
    "        comment=\"#\",                     \n",
    "        header=0,                       \n",
    "        usecols=[\"protein1\", \"protein2\", \"combined_score\"],\n",
    "        dtype={\n",
    "            \"protein1\":        \"category\",\n",
    "            \"protein2\":        \"category\",\n",
    "            \"combined_score\":  \"int32\",\n",
    "        },\n",
    "        chunksize=2_000_000,\n",
    "        low_memory=False,\n",
    "    )\n",
    "    for chunk in tqdm(reader, desc=\"Loading\"):\n",
    "        chunk = chunk[chunk.combined_score >= CUTOFF]\n",
    "        chunks.append(chunk)\n",
    "\n",
    "df = pd.concat(chunks, ignore_index=True)\n",
    "print(f\"✔ kept {len(df):,} edges ≥{CUTOFF}\")"
   ]
  },
  {
   "cell_type": "code",
   "execution_count": 4,
   "id": "205bfc8e-614a-42ad-8772-de39889a06fa",
   "metadata": {},
   "outputs": [
    {
     "name": "stdout",
     "output_type": "stream",
     "text": [
      "Number of edges: 1065374\n",
      "Number of Nodes: 18357\n"
     ]
    }
   ],
   "source": [
    "# Check graph size\n",
    "\n",
    "# Note: the df edge list shows each edge twice because the graph is un-ddierctional\n",
    "\n",
    "n_nodes = len(np.unique(df[\"protein1\"]))\n",
    "\n",
    "print(f\"Number of edges: {len(df)}\")\n",
    "print(f\"Number of Nodes: {n_nodes}\")"
   ]
  },
  {
   "cell_type": "code",
   "execution_count": 5,
   "id": "40e9ae5b-53fa-4c30-b47d-2de95dfebf85",
   "metadata": {},
   "outputs": [
    {
     "name": "stdout",
     "output_type": "stream",
     "text": [
      "✔ Graph: 18,357 nodes • 532,687 edges\n"
     ]
    }
   ],
   "source": [
    "G = nx.from_pandas_edgelist(\n",
    "    df, \"protein1\", \"protein2\", edge_attr=\"combined_score\", create_using=nx.Graph\n",
    ")\n",
    "print(f\"✔ Graph: {G.number_of_nodes():,} nodes • {G.number_of_edges():,} edges\")"
   ]
  },
  {
   "cell_type": "code",
   "execution_count": 6,
   "id": "e3c7593b-b68d-4383-b0f4-abc9e117c28c",
   "metadata": {},
   "outputs": [
    {
     "name": "stdout",
     "output_type": "stream",
     "text": [
      "→ training node2vec with p=1, q=0.5\n",
      "   mean edge-sim 0.3457\n",
      "→ training node2vec with p=1, q=1\n",
      "   mean edge-sim 0.3420\n",
      "→ training node2vec with p=4, q=1\n",
      "   mean edge-sim 0.3437\n",
      "→ training node2vec with p=4, q=4\n",
      "   mean edge-sim 0.3275\n",
      "✔ best (p, q) = (1, 0.5)  |  mean edge-sim = 0.3457\n"
     ]
    }
   ],
   "source": [
    "best_model, best_score, best_pq = None, -np.inf, None\n",
    "edges_list = list(G.edges())\n",
    "sample_pos = edges_list[:10_000] if len(edges_list) >= 10_000 else edges_list\n",
    "\n",
    "def mean_similarity(model, pairs):\n",
    "    \"\"\" \n",
    "    Inputs:\n",
    "        model: Node2Vec class represent the learnin model\n",
    "        pairs: [(u1, v1), (u2, v2), ... (un, vn)]\n",
    "    \"\"\"\n",
    "    sims = [model.wv.similarity(u, v) for u, v in pairs]\n",
    "    return float(np.mean(sims))\n",
    "\n",
    "for p, q in GRID_PQ:\n",
    "    print(f\"→ training node2vec with p={p}, q={q}\")\n",
    "    n2v = Node2Vec(\n",
    "        G,\n",
    "        dimensions=DIMS,\n",
    "        walk_length=WALK_LENGTH,\n",
    "        num_walks=NUM_WALKS,\n",
    "        p=p, q=q,\n",
    "        weight_key=\"combined_score\",\n",
    "        workers=os.cpu_count(),\n",
    "        temp_folder=TMP_DIR,\n",
    "        seed=SEED,\n",
    "        quiet=True,\n",
    "    )\n",
    "    model = n2v.fit(window=10, min_count=1, batch_words=2048, epochs=1)\n",
    "\n",
    "    score = mean_similarity(model, sample_pos)\n",
    "    print(f\"   mean edge-sim {score:.4f}\")\n",
    "\n",
    "    if score > best_score:\n",
    "        best_model, best_score, best_pq = model, score, (p, q)\n",
    "\n",
    "print(f\"✔ best (p, q) = {best_pq}  |  mean edge-sim = {best_score:.4f}\")"
   ]
  },
  {
   "cell_type": "code",
   "execution_count": 7,
   "id": "5b121636-6782-4b5f-9cc3-8387dbdafe99",
   "metadata": {},
   "outputs": [
    {
     "name": "stdout",
     "output_type": "stream",
     "text": [
      "✔ saved text   ➜ /home/FCAM/juli/HRP/results/ppi_node2vec.emb.txt\n",
      "✔ saved binary ➜ /home/FCAM/juli/HRP/results/ppi_node2vec.kv\n",
      "vector( 9606.ENSP00000297591 )[:5] = [ 0.24643165 -0.11183538 -0.00980454  0.21641849 -0.05939937]\n"
     ]
    }
   ],
   "source": [
    "txt_path = os.path.join(OUT_DIR, \"ppi_node2vec.emb.txt\")\n",
    "bin_path = os.path.join(OUT_DIR, \"ppi_node2vec.kv\")\n",
    "\n",
    "best_model.wv.save_word2vec_format(txt_path)   \n",
    "best_model.wv.save(bin_path)                  \n",
    "\n",
    "print(\"✔ saved text   ➜\", txt_path)\n",
    "print(\"✔ saved binary ➜\", bin_path)\n",
    "\n",
    "node0 = best_model.wv.index_to_key[0]\n",
    "print(\"vector(\", node0, \")[:5] =\", best_model.wv[node0][:5])"
   ]
  },
  {
   "cell_type": "code",
   "execution_count": null,
   "id": "d3b09172-c776-4413-bda2-24d834274667",
   "metadata": {},
   "outputs": [],
   "source": []
  }
 ],
 "metadata": {
  "kernelspec": {
   "display_name": "Python 3 (ipykernel)",
   "language": "python",
   "name": "python3"
  },
  "language_info": {
   "codemirror_mode": {
    "name": "ipython",
    "version": 3
   },
   "file_extension": ".py",
   "mimetype": "text/x-python",
   "name": "python",
   "nbconvert_exporter": "python",
   "pygments_lexer": "ipython3",
   "version": "3.10.12"
  }
 },
 "nbformat": 4,
 "nbformat_minor": 5
}
